{
 "cells": [
  {
   "cell_type": "code",
   "execution_count": 2,
   "id": "4289b84f",
   "metadata": {},
   "outputs": [
    {
     "name": "stdout",
     "output_type": "stream",
     "text": [
      "2.9.0+cu128\n"
     ]
    }
   ],
   "source": [
    "import torch\n",
    "print(torch.__version__)"
   ]
  },
  {
   "cell_type": "code",
   "execution_count": 3,
   "id": "67b0d4f2",
   "metadata": {},
   "outputs": [
    {
     "name": "stdout",
     "output_type": "stream",
     "text": [
      "GPU is Available\n",
      "The GPU is : NVIDIA GeForce RTX 3060\n"
     ]
    }
   ],
   "source": [
    "if torch.cuda.is_available():\n",
    "    print(\"GPU is Available\")\n",
    "    print(f\"The GPU is : {torch.cuda.get_device_name(0)}\")\n",
    "else:\n",
    "    print(\"No GPU Available\")"
   ]
  },
  {
   "cell_type": "code",
   "execution_count": 4,
   "id": "cb78e6a3",
   "metadata": {},
   "outputs": [
    {
     "data": {
      "text/plain": [
       "tensor([[9.9655e-12, 0.0000e+00, 0.0000e+00],\n",
       "        [0.0000e+00, 4.4842e-44, 0.0000e+00]])"
      ]
     },
     "execution_count": 4,
     "metadata": {},
     "output_type": "execute_result"
    }
   ],
   "source": [
    "a = torch.empty(2, 3)\n",
    "a"
   ]
  },
  {
   "cell_type": "code",
   "execution_count": 5,
   "id": "b5a0b94b",
   "metadata": {},
   "outputs": [],
   "source": [
    "m1 = torch.tensor([[1, 2, 3], [4, 5, 6]])\n",
    "m2 = torch.tensor([[5, 6, 7], [10 ,11, 12]])\n"
   ]
  },
  {
   "cell_type": "markdown",
   "id": "488b41f1",
   "metadata": {},
   "source": [
    "Basic Math Operations"
   ]
  },
  {
   "cell_type": "code",
   "execution_count": 6,
   "id": "44f111da",
   "metadata": {},
   "outputs": [],
   "source": [
    "# m1 + m2\n",
    "# m1 - m2\n",
    "# m1 * m2\n",
    "# m1 / m2\n",
    "# m2 // m1"
   ]
  },
  {
   "cell_type": "markdown",
   "id": "b07b4178",
   "metadata": {},
   "source": [
    "3D Tensor"
   ]
  },
  {
   "cell_type": "code",
   "execution_count": 7,
   "id": "b8a10241",
   "metadata": {},
   "outputs": [
    {
     "data": {
      "text/plain": [
       "tensor([[[6, 4],\n",
       "         [3, 8],\n",
       "         [0, 4]],\n",
       "\n",
       "        [[5, 2],\n",
       "         [5, 7],\n",
       "         [8, 6]],\n",
       "\n",
       "        [[5, 0],\n",
       "         [5, 1],\n",
       "         [7, 8]]])"
      ]
     },
     "execution_count": 7,
     "metadata": {},
     "output_type": "execute_result"
    }
   ],
   "source": [
    "array3D = torch.randint(size = (3, 3, 2), low = 0, high = 10)\n",
    "array3D"
   ]
  },
  {
   "cell_type": "markdown",
   "id": "b71a6947",
   "metadata": {},
   "source": [
    "Rounding values"
   ]
  },
  {
   "cell_type": "code",
   "execution_count": 8,
   "id": "ea480c8f",
   "metadata": {},
   "outputs": [
    {
     "data": {
      "text/plain": [
       "tensor([[0.5550, 1.3330, 2.7770],\n",
       "        [1.2200, 2.5330, 3.6660]])"
      ]
     },
     "execution_count": 8,
     "metadata": {},
     "output_type": "execute_result"
    }
   ],
   "source": [
    "a = torch.tensor([[0.555, 1.333, 2.777], [1.22, 2.533, 3.666]])\n",
    "a"
   ]
  },
  {
   "cell_type": "code",
   "execution_count": 9,
   "id": "129c4dba",
   "metadata": {},
   "outputs": [],
   "source": [
    "# torch.round(a)\n",
    "# torch.ceil(a)\n",
    "# torch.floor(a)"
   ]
  },
  {
   "cell_type": "code",
   "execution_count": 10,
   "id": "30474f96",
   "metadata": {},
   "outputs": [
    {
     "data": {
      "text/plain": [
       "torch.Size([2, 3])"
      ]
     },
     "execution_count": 10,
     "metadata": {},
     "output_type": "execute_result"
    }
   ],
   "source": [
    "a.shape"
   ]
  },
  {
   "cell_type": "markdown",
   "id": "ca4954d4",
   "metadata": {},
   "source": [
    "Reduction Operations"
   ]
  },
  {
   "cell_type": "code",
   "execution_count": 11,
   "id": "1a1ec455",
   "metadata": {},
   "outputs": [],
   "source": [
    "a = torch.tensor([[2, 3, 4], [3, 6, 7]], dtype = torch.float64)"
   ]
  },
  {
   "cell_type": "code",
   "execution_count": 12,
   "id": "33db5e78",
   "metadata": {},
   "outputs": [
    {
     "data": {
      "text/plain": [
       "tensor([ 9., 16.], dtype=torch.float64)"
      ]
     },
     "execution_count": 12,
     "metadata": {},
     "output_type": "execute_result"
    }
   ],
   "source": [
    "a.sum()\n",
    "a.sum(axis=0)\n",
    "a.sum(axis=1)"
   ]
  },
  {
   "cell_type": "code",
   "execution_count": 13,
   "id": "e0df6369",
   "metadata": {},
   "outputs": [
    {
     "data": {
      "text/plain": [
       "tensor([3.0000, 5.3333], dtype=torch.float64)"
      ]
     },
     "execution_count": 13,
     "metadata": {},
     "output_type": "execute_result"
    }
   ],
   "source": [
    "a.mean()\n",
    "a.mean(axis=0)\n",
    "a.mean(axis=1)"
   ]
  },
  {
   "cell_type": "code",
   "execution_count": 14,
   "id": "e2110eb8",
   "metadata": {},
   "outputs": [
    {
     "data": {
      "text/plain": [
       "torch.return_types.median(\n",
       "values=tensor([3., 6.], dtype=torch.float64),\n",
       "indices=tensor([1, 1]))"
      ]
     },
     "execution_count": 14,
     "metadata": {},
     "output_type": "execute_result"
    }
   ],
   "source": [
    "a.median()\n",
    "a.median(axis = 1)\n"
   ]
  },
  {
   "cell_type": "code",
   "execution_count": 15,
   "id": "1576a84f",
   "metadata": {},
   "outputs": [
    {
     "data": {
      "text/plain": [
       "tensor([1.0000, 2.0817], dtype=torch.float64)"
      ]
     },
     "execution_count": 15,
     "metadata": {},
     "output_type": "execute_result"
    }
   ],
   "source": [
    "a.std()\n",
    "a.std(axis=1)"
   ]
  },
  {
   "cell_type": "markdown",
   "id": "75462d32",
   "metadata": {},
   "source": [
    "Matrix Operations"
   ]
  },
  {
   "cell_type": "code",
   "execution_count": 16,
   "id": "e81d406e",
   "metadata": {},
   "outputs": [],
   "source": [
    "m1 = torch.tensor([[1, 2, 3], [4, 5, 10]])"
   ]
  },
  {
   "cell_type": "code",
   "execution_count": 17,
   "id": "60de3c8c",
   "metadata": {},
   "outputs": [
    {
     "data": {
      "text/plain": [
       "tensor([[ 1,  4],\n",
       "        [ 2,  5],\n",
       "        [ 3, 10]])"
      ]
     },
     "execution_count": 17,
     "metadata": {},
     "output_type": "execute_result"
    }
   ],
   "source": [
    "torch.transpose(m1, 0, 1)"
   ]
  },
  {
   "cell_type": "code",
   "execution_count": 18,
   "id": "39b03097",
   "metadata": {},
   "outputs": [
    {
     "data": {
      "text/plain": [
       "tensor([[-0.1318, -0.1602,  0.2532],\n",
       "        [-0.0155,  0.1576, -0.0879],\n",
       "        [ 0.1163, -0.0155, -0.0078]], dtype=torch.float64)"
      ]
     },
     "execution_count": 18,
     "metadata": {},
     "output_type": "execute_result"
    }
   ],
   "source": [
    "m2 = torch.tensor([[1, 2, 10], [4, 11, 6], [7, 8, 9]], dtype=torch.float64)\n",
    "m2.inverse()"
   ]
  },
  {
   "cell_type": "code",
   "execution_count": 19,
   "id": "f8da7da6",
   "metadata": {},
   "outputs": [
    {
     "data": {
      "text/plain": [
       "tensor(-387., dtype=torch.float64)"
      ]
     },
     "execution_count": 19,
     "metadata": {},
     "output_type": "execute_result"
    }
   ],
   "source": [
    "torch.det(m2)"
   ]
  },
  {
   "cell_type": "code",
   "execution_count": 20,
   "id": "bbcda0bc",
   "metadata": {},
   "outputs": [
    {
     "name": "stdout",
     "output_type": "stream",
     "text": [
      "tensor([[2, 1, 2],\n",
      "        [1, 1, 3],\n",
      "        [2, 3, 2]])\n",
      "tensor([[1, 3, 2],\n",
      "        [1, 1, 1],\n",
      "        [1, 2, 1]])\n"
     ]
    }
   ],
   "source": [
    "m1 = torch.randint(size = (3, 3), low = 1, high = 4)\n",
    "m2 = torch.randint(size = (3, 3), low = 1, high = 4)\n",
    "\n",
    "print(m1)\n",
    "print(m2)"
   ]
  },
  {
   "cell_type": "code",
   "execution_count": 21,
   "id": "ebaf8b19",
   "metadata": {},
   "outputs": [
    {
     "data": {
      "text/plain": [
       "tensor([[ 5, 11,  7],\n",
       "        [ 5, 10,  6],\n",
       "        [ 7, 13,  9]])"
      ]
     },
     "execution_count": 21,
     "metadata": {},
     "output_type": "execute_result"
    }
   ],
   "source": [
    "m3 = torch.matmul(m1, m2)\n",
    "m3"
   ]
  },
  {
   "cell_type": "markdown",
   "id": "9fc6379e",
   "metadata": {},
   "source": [
    "Special Functions"
   ]
  },
  {
   "cell_type": "code",
   "execution_count": 22,
   "id": "ad6a598f",
   "metadata": {},
   "outputs": [],
   "source": [
    "m1 = torch.tensor([[1, 2, 3], [3, 4, 4]])"
   ]
  },
  {
   "cell_type": "code",
   "execution_count": 23,
   "id": "29cfeffd",
   "metadata": {},
   "outputs": [
    {
     "data": {
      "text/plain": [
       "tensor([[0.0000, 0.6931, 1.0986],\n",
       "        [1.0986, 1.3863, 1.3863]])"
      ]
     },
     "execution_count": 23,
     "metadata": {},
     "output_type": "execute_result"
    }
   ],
   "source": [
    "m1.log()"
   ]
  },
  {
   "cell_type": "code",
   "execution_count": 24,
   "id": "20220644",
   "metadata": {},
   "outputs": [
    {
     "data": {
      "text/plain": [
       "tensor([[1.0000, 1.4142, 1.7321],\n",
       "        [1.7321, 2.0000, 2.0000]])"
      ]
     },
     "execution_count": 24,
     "metadata": {},
     "output_type": "execute_result"
    }
   ],
   "source": [
    "m1.sqrt()"
   ]
  },
  {
   "cell_type": "code",
   "execution_count": 25,
   "id": "0b73bcd2",
   "metadata": {},
   "outputs": [
    {
     "data": {
      "text/plain": [
       "tensor([[0.7311, 0.8808, 0.9526],\n",
       "        [0.9526, 0.9820, 0.9820]])"
      ]
     },
     "execution_count": 25,
     "metadata": {},
     "output_type": "execute_result"
    }
   ],
   "source": [
    "m1.sigmoid()"
   ]
  },
  {
   "cell_type": "code",
   "execution_count": 26,
   "id": "858150e7",
   "metadata": {},
   "outputs": [
    {
     "data": {
      "text/plain": [
       "tensor([[ 0.8415,  0.9093,  0.1411],\n",
       "        [ 0.1411, -0.7568, -0.7568]])"
      ]
     },
     "execution_count": 26,
     "metadata": {},
     "output_type": "execute_result"
    }
   ],
   "source": [
    "m1.sin()"
   ]
  },
  {
   "cell_type": "markdown",
   "id": "00150d51",
   "metadata": {},
   "source": [
    "CPU vs GPU Comparison"
   ]
  },
  {
   "cell_type": "code",
   "execution_count": 27,
   "id": "cdb1a9bd",
   "metadata": {},
   "outputs": [],
   "source": [
    "import time\n",
    "device = torch.device(\"cuda\")"
   ]
  },
  {
   "cell_type": "code",
   "execution_count": 28,
   "id": "bc9e27ff",
   "metadata": {},
   "outputs": [
    {
     "name": "stdout",
     "output_type": "stream",
     "text": [
      "tensor([[-0.7339,  0.4783, -0.4515,  ...,  0.3778,  0.3053,  1.4982],\n",
      "        [ 0.1609, -0.6555, -1.0502,  ...,  1.6699, -0.7340, -0.3498],\n",
      "        [ 1.9293, -0.3299, -1.1226,  ..., -0.1374, -0.1645,  1.7278],\n",
      "        ...,\n",
      "        [ 0.5316,  0.0268, -0.4019,  ...,  0.0229,  1.0827,  0.9040],\n",
      "        [-0.9134, -0.9434,  0.7796,  ...,  0.2558, -0.0430, -0.0813],\n",
      "        [-1.3644,  0.3940,  1.0025,  ...,  0.6914, -1.0670,  2.1756]])\n",
      "tensor([[-1.0331,  0.2183, -0.8521,  ...,  0.9339,  0.5599,  0.6353],\n",
      "        [ 1.2573, -0.0036,  0.0356,  ...,  1.4781,  0.2730,  0.4765],\n",
      "        [-1.0005, -0.1599,  0.3516,  ..., -1.5757, -1.1888,  1.0283],\n",
      "        ...,\n",
      "        [-0.2776,  0.1982, -0.4831,  ...,  0.2233,  0.2048, -1.7261],\n",
      "        [ 0.1169, -0.0938, -0.6530,  ..., -1.7883,  1.1721, -0.8086],\n",
      "        [ 1.0485, -0.7582,  0.7076,  ..., -0.5694,  0.9689, -0.4909]])\n",
      "Time taken by CPU: 2.6285901069641113 seconds\n",
      "Time taken by GPU: 0.06512713432312012 seconds\n",
      "40.36090539348301\n"
     ]
    }
   ],
   "source": [
    "# Matrices in CPU\n",
    "\n",
    "matrix1 = torch.randn(10000, 10000)\n",
    "matrix2 = torch.randn(10000, 10000)\n",
    "\n",
    "print(matrix1)\n",
    "print(matrix2)\n",
    "\n",
    "# Multiplication in CPU and Record the time\n",
    "start_time = time.time()\n",
    "mul = torch.matmul(matrix1, matrix2)\n",
    "end_time = time.time()\n",
    "\n",
    "cpu_time = end_time - start_time\n",
    "\n",
    "print(f\"Time taken by CPU: {cpu_time} seconds\")\n",
    "\n",
    "# Move the matrices to GPU\n",
    "matrix1 = matrix1.to(device)\n",
    "matrix2 = matrix2.to(device)\n",
    "\n",
    "start_time = time.time()\n",
    "mul = torch.matmul(matrix1, matrix2)\n",
    "end_time = time.time()\n",
    "\n",
    "gpu_time = end_time - start_time\n",
    "\n",
    "print(f\"Time taken by GPU: {gpu_time} seconds\")\n",
    "\n",
    "print(cpu_time/gpu_time)\n"
   ]
  }
 ],
 "metadata": {
  "kernelspec": {
   "display_name": ".venv (3.12.3)",
   "language": "python",
   "name": "python3"
  },
  "language_info": {
   "codemirror_mode": {
    "name": "ipython",
    "version": 3
   },
   "file_extension": ".py",
   "mimetype": "text/x-python",
   "name": "python",
   "nbconvert_exporter": "python",
   "pygments_lexer": "ipython3",
   "version": "3.12.3"
  }
 },
 "nbformat": 4,
 "nbformat_minor": 5
}
